{
 "cells": [
  {
   "cell_type": "code",
   "execution_count": null,
   "metadata": {},
   "outputs": [],
   "source": [
    "from plugins.AudioVideoPlugin.AudioVideo import AudioVideo\n",
    "\n",
    "av = AudioVideo()\n",
    "\n",
    "#file = \"C:\\\\temp\\\\230Github.mp4\"\n",
    "file = \"S:\\\\OneDrive\\\\Youtube\\\\Montaggi\\\\AtlasLocalOnWindows.mp4\"\n",
    "audio = av.extract_audio(file)\n",
    "av.transcript_timeline(audio, model = \"large-v3\")"
   ]
  },
  {
   "cell_type": "code",
   "execution_count": null,
   "metadata": {},
   "outputs": [],
   "source": [
    "print ( transcription_string)"
   ]
  }
 ],
 "metadata": {
  "kernelspec": {
   "display_name": "skernel",
   "language": "python",
   "name": "python3"
  },
  "language_info": {
   "codemirror_mode": {
    "name": "ipython",
    "version": 3
   },
   "file_extension": ".py",
   "mimetype": "text/x-python",
   "name": "python",
   "nbconvert_exporter": "python",
   "pygments_lexer": "ipython3",
   "version": "3.10.9"
  }
 },
 "nbformat": 4,
 "nbformat_minor": 2
}
